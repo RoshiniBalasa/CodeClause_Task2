{
 "cells": [
  {
   "cell_type": "markdown",
   "id": "6863e421",
   "metadata": {},
   "source": [
    "# CodeClause Data Science Internship-Task 1"
   ]
  },
  {
   "cell_type": "markdown",
   "id": "fd957646",
   "metadata": {},
   "source": [
    "## Author: Roshini B\n",
    "## Topic: Market Basket Analysis in Python using Apriori Algorithm"
   ]
  },
  {
   "cell_type": "markdown",
   "id": "9cb4e722",
   "metadata": {},
   "source": [
    "##### importing the packages required"
   ]
  },
  {
   "cell_type": "code",
   "execution_count": 1,
   "id": "e7cb1bbb",
   "metadata": {},
   "outputs": [],
   "source": [
    "import numpy as np\n",
    "import pandas as pd\n",
    "import matplotlib.pyplot as plt\n",
    "import seaborn as sns"
   ]
  },
  {
   "cell_type": "markdown",
   "id": "ebcb4c4a",
   "metadata": {},
   "source": [
    "##### Reading the csv file"
   ]
  },
  {
   "cell_type": "code",
   "execution_count": 74,
   "id": "0526d1f6",
   "metadata": {},
   "outputs": [],
   "source": [
    "df=pd.read_csv(\"Downloads\\GroceriesDataset.csv\")"
   ]
  },
  {
   "cell_type": "code",
   "execution_count": 75,
   "id": "5b11edf2",
   "metadata": {},
   "outputs": [
    {
     "data": {
      "text/plain": [
       "(38765, 3)"
      ]
     },
     "execution_count": 75,
     "metadata": {},
     "output_type": "execute_result"
    }
   ],
   "source": [
    "df.shape"
   ]
  },
  {
   "cell_type": "code",
   "execution_count": 76,
   "id": "88673513",
   "metadata": {},
   "outputs": [
    {
     "data": {
      "text/html": [
       "<div>\n",
       "<style scoped>\n",
       "    .dataframe tbody tr th:only-of-type {\n",
       "        vertical-align: middle;\n",
       "    }\n",
       "\n",
       "    .dataframe tbody tr th {\n",
       "        vertical-align: top;\n",
       "    }\n",
       "\n",
       "    .dataframe thead th {\n",
       "        text-align: right;\n",
       "    }\n",
       "</style>\n",
       "<table border=\"1\" class=\"dataframe\">\n",
       "  <thead>\n",
       "    <tr style=\"text-align: right;\">\n",
       "      <th></th>\n",
       "      <th>Member_number</th>\n",
       "    </tr>\n",
       "  </thead>\n",
       "  <tbody>\n",
       "    <tr>\n",
       "      <th>count</th>\n",
       "      <td>38765.000000</td>\n",
       "    </tr>\n",
       "    <tr>\n",
       "      <th>mean</th>\n",
       "      <td>3003.641868</td>\n",
       "    </tr>\n",
       "    <tr>\n",
       "      <th>std</th>\n",
       "      <td>1153.611031</td>\n",
       "    </tr>\n",
       "    <tr>\n",
       "      <th>min</th>\n",
       "      <td>1000.000000</td>\n",
       "    </tr>\n",
       "    <tr>\n",
       "      <th>25%</th>\n",
       "      <td>2002.000000</td>\n",
       "    </tr>\n",
       "    <tr>\n",
       "      <th>50%</th>\n",
       "      <td>3005.000000</td>\n",
       "    </tr>\n",
       "    <tr>\n",
       "      <th>75%</th>\n",
       "      <td>4007.000000</td>\n",
       "    </tr>\n",
       "    <tr>\n",
       "      <th>max</th>\n",
       "      <td>5000.000000</td>\n",
       "    </tr>\n",
       "  </tbody>\n",
       "</table>\n",
       "</div>"
      ],
      "text/plain": [
       "       Member_number\n",
       "count   38765.000000\n",
       "mean     3003.641868\n",
       "std      1153.611031\n",
       "min      1000.000000\n",
       "25%      2002.000000\n",
       "50%      3005.000000\n",
       "75%      4007.000000\n",
       "max      5000.000000"
      ]
     },
     "execution_count": 76,
     "metadata": {},
     "output_type": "execute_result"
    }
   ],
   "source": [
    "df.describe()"
   ]
  },
  {
   "cell_type": "code",
   "execution_count": 77,
   "id": "6f7d2aae",
   "metadata": {},
   "outputs": [
    {
     "name": "stdout",
     "output_type": "stream",
     "text": [
      "<class 'pandas.core.frame.DataFrame'>\n",
      "RangeIndex: 38765 entries, 0 to 38764\n",
      "Data columns (total 3 columns):\n",
      " #   Column           Non-Null Count  Dtype \n",
      "---  ------           --------------  ----- \n",
      " 0   Member_number    38765 non-null  int64 \n",
      " 1   Date             38765 non-null  object\n",
      " 2   itemDescription  38765 non-null  object\n",
      "dtypes: int64(1), object(2)\n",
      "memory usage: 908.7+ KB\n"
     ]
    }
   ],
   "source": [
    "df.info()"
   ]
  },
  {
   "cell_type": "markdown",
   "id": "54a5ecd6",
   "metadata": {},
   "source": [
    "##### Checking for null values"
   ]
  },
  {
   "cell_type": "code",
   "execution_count": 78,
   "id": "6847d148",
   "metadata": {},
   "outputs": [
    {
     "data": {
      "text/plain": [
       "Member_number      38765\n",
       "Date               38765\n",
       "itemDescription    38765\n",
       "dtype: int64"
      ]
     },
     "execution_count": 78,
     "metadata": {},
     "output_type": "execute_result"
    }
   ],
   "source": [
    "df.notnull().sum()"
   ]
  },
  {
   "cell_type": "code",
   "execution_count": 79,
   "id": "c91707de",
   "metadata": {},
   "outputs": [
    {
     "data": {
      "text/plain": [
       "Member_number      0\n",
       "Date               0\n",
       "itemDescription    0\n",
       "dtype: int64"
      ]
     },
     "execution_count": 79,
     "metadata": {},
     "output_type": "execute_result"
    }
   ],
   "source": [
    "df.isna().sum()"
   ]
  },
  {
   "cell_type": "markdown",
   "id": "13c71eec",
   "metadata": {},
   "source": [
    "##### Displaying the file content"
   ]
  },
  {
   "cell_type": "code",
   "execution_count": 80,
   "id": "51943700",
   "metadata": {},
   "outputs": [
    {
     "data": {
      "text/html": [
       "<div>\n",
       "<style scoped>\n",
       "    .dataframe tbody tr th:only-of-type {\n",
       "        vertical-align: middle;\n",
       "    }\n",
       "\n",
       "    .dataframe tbody tr th {\n",
       "        vertical-align: top;\n",
       "    }\n",
       "\n",
       "    .dataframe thead th {\n",
       "        text-align: right;\n",
       "    }\n",
       "</style>\n",
       "<table border=\"1\" class=\"dataframe\">\n",
       "  <thead>\n",
       "    <tr style=\"text-align: right;\">\n",
       "      <th></th>\n",
       "      <th>Member_number</th>\n",
       "      <th>Date</th>\n",
       "      <th>itemDescription</th>\n",
       "    </tr>\n",
       "  </thead>\n",
       "  <tbody>\n",
       "    <tr>\n",
       "      <th>0</th>\n",
       "      <td>1808</td>\n",
       "      <td>21-07-2015</td>\n",
       "      <td>tropical fruit</td>\n",
       "    </tr>\n",
       "    <tr>\n",
       "      <th>1</th>\n",
       "      <td>2552</td>\n",
       "      <td>05-01-2015</td>\n",
       "      <td>whole milk</td>\n",
       "    </tr>\n",
       "    <tr>\n",
       "      <th>2</th>\n",
       "      <td>2300</td>\n",
       "      <td>19-09-2015</td>\n",
       "      <td>pip fruit</td>\n",
       "    </tr>\n",
       "    <tr>\n",
       "      <th>3</th>\n",
       "      <td>1187</td>\n",
       "      <td>12-12-2015</td>\n",
       "      <td>other vegetables</td>\n",
       "    </tr>\n",
       "    <tr>\n",
       "      <th>4</th>\n",
       "      <td>3037</td>\n",
       "      <td>01-02-2015</td>\n",
       "      <td>whole milk</td>\n",
       "    </tr>\n",
       "  </tbody>\n",
       "</table>\n",
       "</div>"
      ],
      "text/plain": [
       "   Member_number        Date   itemDescription\n",
       "0           1808  21-07-2015    tropical fruit\n",
       "1           2552  05-01-2015        whole milk\n",
       "2           2300  19-09-2015         pip fruit\n",
       "3           1187  12-12-2015  other vegetables\n",
       "4           3037  01-02-2015        whole milk"
      ]
     },
     "execution_count": 80,
     "metadata": {},
     "output_type": "execute_result"
    }
   ],
   "source": [
    "df.head()"
   ]
  },
  {
   "cell_type": "markdown",
   "id": "4f18693b",
   "metadata": {},
   "source": [
    "##### Converting date column into index"
   ]
  },
  {
   "cell_type": "code",
   "execution_count": 81,
   "id": "afb6f2b0",
   "metadata": {},
   "outputs": [],
   "source": [
    "df.set_index('Date',inplace = True)"
   ]
  },
  {
   "cell_type": "code",
   "execution_count": 82,
   "id": "f990456e",
   "metadata": {},
   "outputs": [
    {
     "data": {
      "text/html": [
       "<div>\n",
       "<style scoped>\n",
       "    .dataframe tbody tr th:only-of-type {\n",
       "        vertical-align: middle;\n",
       "    }\n",
       "\n",
       "    .dataframe tbody tr th {\n",
       "        vertical-align: top;\n",
       "    }\n",
       "\n",
       "    .dataframe thead th {\n",
       "        text-align: right;\n",
       "    }\n",
       "</style>\n",
       "<table border=\"1\" class=\"dataframe\">\n",
       "  <thead>\n",
       "    <tr style=\"text-align: right;\">\n",
       "      <th></th>\n",
       "      <th>Member_number</th>\n",
       "      <th>itemDescription</th>\n",
       "    </tr>\n",
       "    <tr>\n",
       "      <th>Date</th>\n",
       "      <th></th>\n",
       "      <th></th>\n",
       "    </tr>\n",
       "  </thead>\n",
       "  <tbody>\n",
       "    <tr>\n",
       "      <th>21-07-2015</th>\n",
       "      <td>1808</td>\n",
       "      <td>tropical fruit</td>\n",
       "    </tr>\n",
       "    <tr>\n",
       "      <th>05-01-2015</th>\n",
       "      <td>2552</td>\n",
       "      <td>whole milk</td>\n",
       "    </tr>\n",
       "    <tr>\n",
       "      <th>19-09-2015</th>\n",
       "      <td>2300</td>\n",
       "      <td>pip fruit</td>\n",
       "    </tr>\n",
       "    <tr>\n",
       "      <th>12-12-2015</th>\n",
       "      <td>1187</td>\n",
       "      <td>other vegetables</td>\n",
       "    </tr>\n",
       "    <tr>\n",
       "      <th>01-02-2015</th>\n",
       "      <td>3037</td>\n",
       "      <td>whole milk</td>\n",
       "    </tr>\n",
       "  </tbody>\n",
       "</table>\n",
       "</div>"
      ],
      "text/plain": [
       "            Member_number   itemDescription\n",
       "Date                                       \n",
       "21-07-2015           1808    tropical fruit\n",
       "05-01-2015           2552        whole milk\n",
       "19-09-2015           2300         pip fruit\n",
       "12-12-2015           1187  other vegetables\n",
       "01-02-2015           3037        whole milk"
      ]
     },
     "execution_count": 82,
     "metadata": {},
     "output_type": "execute_result"
    }
   ],
   "source": [
    "df.head()"
   ]
  },
  {
   "cell_type": "code",
   "execution_count": 83,
   "id": "8369a23d",
   "metadata": {},
   "outputs": [],
   "source": [
    "df.index=pd.to_datetime(df.index)"
   ]
  },
  {
   "cell_type": "code",
   "execution_count": 84,
   "id": "04e09bed",
   "metadata": {},
   "outputs": [
    {
     "data": {
      "text/html": [
       "<div>\n",
       "<style scoped>\n",
       "    .dataframe tbody tr th:only-of-type {\n",
       "        vertical-align: middle;\n",
       "    }\n",
       "\n",
       "    .dataframe tbody tr th {\n",
       "        vertical-align: top;\n",
       "    }\n",
       "\n",
       "    .dataframe thead th {\n",
       "        text-align: right;\n",
       "    }\n",
       "</style>\n",
       "<table border=\"1\" class=\"dataframe\">\n",
       "  <thead>\n",
       "    <tr style=\"text-align: right;\">\n",
       "      <th></th>\n",
       "      <th>Member_number</th>\n",
       "      <th>itemDescription</th>\n",
       "    </tr>\n",
       "    <tr>\n",
       "      <th>Date</th>\n",
       "      <th></th>\n",
       "      <th></th>\n",
       "    </tr>\n",
       "  </thead>\n",
       "  <tbody>\n",
       "    <tr>\n",
       "      <th>2015-07-21</th>\n",
       "      <td>1808</td>\n",
       "      <td>tropical fruit</td>\n",
       "    </tr>\n",
       "    <tr>\n",
       "      <th>2015-05-01</th>\n",
       "      <td>2552</td>\n",
       "      <td>whole milk</td>\n",
       "    </tr>\n",
       "    <tr>\n",
       "      <th>2015-09-19</th>\n",
       "      <td>2300</td>\n",
       "      <td>pip fruit</td>\n",
       "    </tr>\n",
       "    <tr>\n",
       "      <th>2015-12-12</th>\n",
       "      <td>1187</td>\n",
       "      <td>other vegetables</td>\n",
       "    </tr>\n",
       "    <tr>\n",
       "      <th>2015-01-02</th>\n",
       "      <td>3037</td>\n",
       "      <td>whole milk</td>\n",
       "    </tr>\n",
       "  </tbody>\n",
       "</table>\n",
       "</div>"
      ],
      "text/plain": [
       "            Member_number   itemDescription\n",
       "Date                                       \n",
       "2015-07-21           1808    tropical fruit\n",
       "2015-05-01           2552        whole milk\n",
       "2015-09-19           2300         pip fruit\n",
       "2015-12-12           1187  other vegetables\n",
       "2015-01-02           3037        whole milk"
      ]
     },
     "execution_count": 84,
     "metadata": {},
     "output_type": "execute_result"
    }
   ],
   "source": [
    "df.head()"
   ]
  },
  {
   "cell_type": "code",
   "execution_count": 85,
   "id": "dd599f82",
   "metadata": {},
   "outputs": [
    {
     "data": {
      "text/plain": [
       "(38765, 2)"
      ]
     },
     "execution_count": 85,
     "metadata": {},
     "output_type": "execute_result"
    }
   ],
   "source": [
    "df.shape"
   ]
  },
  {
   "cell_type": "markdown",
   "id": "5eeefa00",
   "metadata": {},
   "source": [
    "##### Calculating total items, days, months"
   ]
  },
  {
   "cell_type": "code",
   "execution_count": 86,
   "id": "52d93aea",
   "metadata": {},
   "outputs": [
    {
     "name": "stdout",
     "output_type": "stream",
     "text": [
      "Total items:  38765\n",
      "Total Days:  728\n",
      "Total months:  2\n"
     ]
    }
   ],
   "source": [
    "total_item = len(df)\n",
    "total_days = len(np.unique(df.index.date))\n",
    "total_months = len(np.unique(df.index.year))\n",
    "print(\"Total items: \",total_item)\n",
    "print(\"Total Days: \",total_days)\n",
    "print(\"Total months: \",total_months)"
   ]
  },
  {
   "cell_type": "markdown",
   "id": "438d749b",
   "metadata": {},
   "source": [
    "##### Analyzing Top 20 items purchased"
   ]
  },
  {
   "cell_type": "code",
   "execution_count": 87,
   "id": "1296b3d1",
   "metadata": {},
   "outputs": [
    {
     "data": {
      "image/png": "[encoded data removed]",
      "text/plain": [
       "<Figure size 1080x360 with 1 Axes>"
      ]
     },
     "metadata": {
      "needs_background": "light"
     },
     "output_type": "display_data"
    }
   ],
   "source": [
    "plt.figure(figsize=(15,5))\n",
    "sns.barplot(x = df.itemDescription.value_counts().head(20).index, y = df.itemDescription.value_counts().head(20).values)\n",
    "plt.xlabel('itemDescription', size = 15)\n",
    "plt.xticks(rotation=45)\n",
    "plt.ylabel('Count of Items', size = 15)\n",
    "plt.title('Top 20 Items purchased by customers')\n",
    "plt.show()"
   ]
  },
  {
   "cell_type": "code",
   "execution_count": 88,
   "id": "31dc65eb",
   "metadata": {},
   "outputs": [
    {
     "data": {
      "text/plain": [
       "whole milk               2502\n",
       "other vegetables         1898\n",
       "rolls/buns               1716\n",
       "soda                     1514\n",
       "yogurt                   1334\n",
       "                         ... \n",
       "frozen chicken              5\n",
       "bags                        4\n",
       "baby cosmetics              3\n",
       "kitchen utensil             1\n",
       "preservation products       1\n",
       "Name: itemDescription, Length: 167, dtype: int64"
      ]
     },
     "execution_count": 88,
     "metadata": {},
     "output_type": "execute_result"
    }
   ],
   "source": [
    "df['itemDescription'].value_counts()"
   ]
  },
  {
   "cell_type": "markdown",
   "id": "fef55f57",
   "metadata": {},
   "source": [
    "##### Grouping the items"
   ]
  },
  {
   "cell_type": "code",
   "execution_count": 89,
   "id": "515daa47",
   "metadata": {},
   "outputs": [],
   "source": [
    "df=df.groupby(['Member_number','Date'])['itemDescription'].apply(lambda x:list(x))"
   ]
  },
  {
   "cell_type": "code",
   "execution_count": 90,
   "id": "fd84bab5",
   "metadata": {},
   "outputs": [
    {
     "data": {
      "text/plain": [
       "Member_number  Date      \n",
       "1000           2014-06-24                    [whole milk, pastry, salty snack]\n",
       "               2015-03-15    [sausage, whole milk, semi-finished bread, yog...\n",
       "               2015-05-27                           [soda, pickled vegetables]\n",
       "               2015-07-24                       [canned beer, misc. beverages]\n",
       "               2015-11-25                          [sausage, hygiene articles]\n",
       "1001           2014-07-02                    [sausage, whole milk, rolls/buns]\n",
       "               2014-12-12                                   [whole milk, soda]\n",
       "               2015-01-20              [frankfurter, soda, whipped/sour cream]\n",
       "               2015-02-05                                  [frankfurter, curd]\n",
       "               2015-04-14                                  [beef, white bread]\n",
       "Name: itemDescription, dtype: object"
      ]
     },
     "execution_count": 90,
     "metadata": {},
     "output_type": "execute_result"
    }
   ],
   "source": [
    "df.head(10)"
   ]
  },
  {
   "cell_type": "markdown",
   "id": "84233339",
   "metadata": {},
   "source": [
    "##### Transactions"
   ]
  },
  {
   "cell_type": "code",
   "execution_count": 91,
   "id": "f029938b",
   "metadata": {},
   "outputs": [
    {
     "data": {
      "text/plain": [
       "[['whole milk', 'pastry', 'salty snack'],\n",
       " ['sausage', 'whole milk', 'semi-finished bread', 'yogurt'],\n",
       " ['soda', 'pickled vegetables'],\n",
       " ['canned beer', 'misc. beverages'],\n",
       " ['sausage', 'hygiene articles'],\n",
       " ['sausage', 'whole milk', 'rolls/buns'],\n",
       " ['whole milk', 'soda'],\n",
       " ['frankfurter', 'soda', 'whipped/sour cream'],\n",
       " ['frankfurter', 'curd'],\n",
       " ['beef', 'white bread']]"
      ]
     },
     "execution_count": 91,
     "metadata": {},
     "output_type": "execute_result"
    }
   ],
   "source": [
    "transactions = df.values.tolist()\n",
    "transactions[:10]"
   ]
  },
  {
   "cell_type": "markdown",
   "id": "a21d77a6",
   "metadata": {},
   "source": [
    "##### Using Apriori algorithm"
   ]
  },
  {
   "cell_type": "code",
   "execution_count": 94,
   "id": "41bb495e",
   "metadata": {},
   "outputs": [
    {
     "data": {
      "text/plain": [
       "[RelationRecord(items=frozenset({'soda', 'artif. sweetener'}), support=0.00046782062420637575, ordered_statistics=[OrderedStatistic(items_base=frozenset({'artif. sweetener'}), items_add=frozenset({'soda'}), confidence=0.2413793103448276, lift=2.4857251346797353)]),\n",
       " RelationRecord(items=frozenset({'berries', 'condensed milk'}), support=0.0003341575887188398, ordered_statistics=[OrderedStatistic(items_base=frozenset({'condensed milk'}), items_add=frozenset({'berries'}), confidence=0.05102040816326531, lift=2.34177413296607)]),\n",
       " RelationRecord(items=frozenset({'brandy', 'whole milk'}), support=0.0008688097306689834, ordered_statistics=[OrderedStatistic(items_base=frozenset({'brandy'}), items_add=frozenset({'whole milk'}), confidence=0.34210526315789475, lift=2.1662805978127717)]),\n",
       " RelationRecord(items=frozenset({'sweet spreads', 'butter'}), support=0.0003341575887188398, ordered_statistics=[OrderedStatistic(items_base=frozenset({'sweet spreads'}), items_add=frozenset({'butter'}), confidence=0.07352941176470588, lift=2.087705101015738)]),\n",
       " RelationRecord(items=frozenset({'liver loaf', 'canned beer'}), support=0.00040098910646260775, ordered_statistics=[OrderedStatistic(items_base=frozenset({'liver loaf'}), items_add=frozenset({'canned beer'}), confidence=0.12, lift=2.5577777777777775)]),\n",
       " RelationRecord(items=frozenset({'frozen fish', 'chocolate'}), support=0.00040098910646260775, ordered_statistics=[OrderedStatistic(items_base=frozenset({'frozen fish'}), items_add=frozenset({'chocolate'}), confidence=0.058823529411764705, lift=2.493417763706049)]),\n",
       " RelationRecord(items=frozenset({'citrus fruit', 'sauces'}), support=0.0003341575887188398, ordered_statistics=[OrderedStatistic(items_base=frozenset({'sauces'}), items_add=frozenset({'citrus fruit'}), confidence=0.11363636363636365, lift=2.1387935963407663)]),\n",
       " RelationRecord(items=frozenset({'curd', 'cling film/bags'}), support=0.0003341575887188398, ordered_statistics=[OrderedStatistic(items_base=frozenset({'cling film/bags'}), items_add=frozenset({'curd'}), confidence=0.06756756756756757, lift=2.005979193479194)]),\n",
       " RelationRecord(items=frozenset({'condensed milk', 'waffles'}), support=0.0003341575887188398, ordered_statistics=[OrderedStatistic(items_base=frozenset({'condensed milk'}), items_add=frozenset({'waffles'}), confidence=0.05102040816326531, lift=2.7560229868120536)]),\n",
       " RelationRecord(items=frozenset({'frankfurter', 'mustard'}), support=0.0005346521419501437, ordered_statistics=[OrderedStatistic(items_base=frozenset({'mustard'}), items_add=frozenset({'frankfurter'}), confidence=0.08695652173913045, lift=2.302885725278954)]),\n",
       " RelationRecord(items=frozenset({'liver loaf', 'fruit/vegetable juice'}), support=0.00040098910646260775, ordered_statistics=[OrderedStatistic(items_base=frozenset({'liver loaf'}), items_add=frozenset({'fruit/vegetable juice'}), confidence=0.12, lift=3.5276227897838903)]),\n",
       " RelationRecord(items=frozenset({'pickled vegetables', 'ham'}), support=0.0005346521419501437, ordered_statistics=[OrderedStatistic(items_base=frozenset({'pickled vegetables'}), items_add=frozenset({'ham'}), confidence=0.05970149253731344, lift=3.4895055970149254)]),\n",
       " RelationRecord(items=frozenset({'pasta', 'hamburger meat'}), support=0.00046782062420637575, ordered_statistics=[OrderedStatistic(items_base=frozenset({'pasta'}), items_add=frozenset({'hamburger meat'}), confidence=0.05785123966942149, lift=2.6471807314175955)]),\n",
       " RelationRecord(items=frozenset({'soft cheese', 'hamburger meat'}), support=0.0006014836596939117, ordered_statistics=[OrderedStatistic(items_base=frozenset({'soft cheese'}), items_add=frozenset({'hamburger meat'}), confidence=0.060000000000000005, lift=2.745504587155964)]),\n",
       " RelationRecord(items=frozenset({'spread cheese', 'hamburger meat'}), support=0.0003341575887188398, ordered_statistics=[OrderedStatistic(items_base=frozenset({'spread cheese'}), items_add=frozenset({'hamburger meat'}), confidence=0.05, lift=2.2879204892966363)]),\n",
       " RelationRecord(items=frozenset({'roll products ', 'meat'}), support=0.0003341575887188398, ordered_statistics=[OrderedStatistic(items_base=frozenset({'roll products '}), items_add=frozenset({'meat'}), confidence=0.06097560975609757, lift=3.620547812620984)]),\n",
       " RelationRecord(items=frozenset({'sausage', 'meat spreads'}), support=0.0003341575887188398, ordered_statistics=[OrderedStatistic(items_base=frozenset({'meat spreads'}), items_add=frozenset({'sausage'}), confidence=0.14285714285714288, lift=2.3671887359595005)]),\n",
       " RelationRecord(items=frozenset({'salt', 'misc. beverages'}), support=0.0003341575887188398, ordered_statistics=[OrderedStatistic(items_base=frozenset({'salt'}), items_add=frozenset({'misc. beverages'}), confidence=0.05617977528089888, lift=3.5619405827461437)]),\n",
       " RelationRecord(items=frozenset({'spread cheese', 'misc. beverages'}), support=0.0003341575887188398, ordered_statistics=[OrderedStatistic(items_base=frozenset({'spread cheese'}), items_add=frozenset({'misc. beverages'}), confidence=0.05, lift=3.170127118644068)]),\n",
       " RelationRecord(items=frozenset({'white bread', 'mustard'}), support=0.0003341575887188398, ordered_statistics=[OrderedStatistic(items_base=frozenset({'mustard'}), items_add=frozenset({'white bread'}), confidence=0.05434782608695652, lift=2.2651992249000847)]),\n",
       " RelationRecord(items=frozenset({'sweet spreads', 'pip fruit'}), support=0.0005346521419501437, ordered_statistics=[OrderedStatistic(items_base=frozenset({'sweet spreads'}), items_add=frozenset({'pip fruit'}), confidence=0.11764705882352942, lift=2.398301009777208)]),\n",
       " RelationRecord(items=frozenset({'popcorn', 'pork'}), support=0.0003341575887188398, ordered_statistics=[OrderedStatistic(items_base=frozenset({'popcorn'}), items_add=frozenset({'pork'}), confidence=0.10416666666666667, lift=2.808370870870871)]),\n",
       " RelationRecord(items=frozenset({'sausage', 'rum'}), support=0.0003341575887188398, ordered_statistics=[OrderedStatistic(items_base=frozenset({'rum'}), items_add=frozenset({'sausage'}), confidence=0.15625, lift=2.589112679955703)]),\n",
       " RelationRecord(items=frozenset({'sausage', 'spices'}), support=0.0003341575887188398, ordered_statistics=[OrderedStatistic(items_base=frozenset({'spices'}), items_add=frozenset({'sausage'}), confidence=0.125, lift=2.0712901439645623)]),\n",
       " RelationRecord(items=frozenset({'seasonal products', 'soups'}), support=0.0003341575887188398, ordered_statistics=[OrderedStatistic(items_base=frozenset({'soups'}), items_add=frozenset({'seasonal products'}), confidence=0.10416666666666667, lift=14.704205974842768)]),\n",
       " RelationRecord(items=frozenset({'soda', 'spices'}), support=0.0006014836596939117, ordered_statistics=[OrderedStatistic(items_base=frozenset({'spices'}), items_add=frozenset({'soda'}), confidence=0.225, lift=2.317050929112182)]),\n",
       " RelationRecord(items=frozenset({'spread cheese', 'sugar'}), support=0.00040098910646260775, ordered_statistics=[OrderedStatistic(items_base=frozenset({'spread cheese'}), items_add=frozenset({'sugar'}), confidence=0.06, lift=3.3878490566037733)]),\n",
       " RelationRecord(items=frozenset({'sweet spreads', 'tropical fruit'}), support=0.0007351466951814476, ordered_statistics=[OrderedStatistic(items_base=frozenset({'sweet spreads'}), items_add=frozenset({'tropical fruit'}), confidence=0.16176470588235295, lift=2.387066365007542)]),\n",
       " RelationRecord(items=frozenset({'bottled beer', 'beef', 'whole milk'}), support=0.00040098910646260775, ordered_statistics=[OrderedStatistic(items_base=frozenset({'bottled beer', 'beef'}), items_add=frozenset({'whole milk'}), confidence=0.37499999999999994, lift=2.3745768091409225)]),\n",
       " RelationRecord(items=frozenset({'beef', 'whole milk', 'whipped/sour cream'}), support=0.00046782062420637575, ordered_statistics=[OrderedStatistic(items_base=frozenset({'beef', 'whipped/sour cream'}), items_add=frozenset({'whole milk'}), confidence=0.33333333333333337, lift=2.110734941458598), OrderedStatistic(items_base=frozenset({'beef', 'whole milk'}), items_add=frozenset({'whipped/sour cream'}), confidence=0.1, lift=2.2879204892966363), OrderedStatistic(items_base=frozenset({'whole milk', 'whipped/sour cream'}), items_add=frozenset({'beef'}), confidence=0.10144927536231885, lift=2.988160447335388)]),\n",
       " RelationRecord(items=frozenset({'beverages', 'sausage', 'whole milk'}), support=0.0003341575887188398, ordered_statistics=[OrderedStatistic(items_base=frozenset({'beverages', 'whole milk'}), items_add=frozenset({'sausage'}), confidence=0.1724137931034483, lift=2.8569519227097415)]),\n",
       " RelationRecord(items=frozenset({'sausage', 'bottled beer', 'bottled water'}), support=0.0003341575887188398, ordered_statistics=[OrderedStatistic(items_base=frozenset({'bottled beer', 'bottled water'}), items_add=frozenset({'sausage'}), confidence=0.13157894736842107, lift=2.1803054146995398), OrderedStatistic(items_base=frozenset({'sausage', 'bottled water'}), items_add=frozenset({'bottled beer'}), confidence=0.10638297872340426, lift=2.3478001631833303)]),\n",
       " RelationRecord(items=frozenset({'sausage', 'bottled beer', 'butter'}), support=0.0003341575887188398, ordered_statistics=[OrderedStatistic(items_base=frozenset({'bottled beer', 'butter'}), items_add=frozenset({'sausage'}), confidence=0.2, lift=3.3140642303433), OrderedStatistic(items_base=frozenset({'sausage', 'bottled beer'}), items_add=frozenset({'butter'}), confidence=0.1, lift=2.8392789373814042), OrderedStatistic(items_base=frozenset({'sausage', 'butter'}), items_add=frozenset({'bottled beer'}), confidence=0.1724137931034483, lift=3.8050554368833285)]),\n",
       " RelationRecord(items=frozenset({'chicken', 'bottled beer', 'whole milk'}), support=0.0003341575887188398, ordered_statistics=[OrderedStatistic(items_base=frozenset({'chicken', 'bottled beer'}), items_add=frozenset({'whole milk'}), confidence=0.3333333333333333, lift=2.110734941458598), OrderedStatistic(items_base=frozenset({'chicken', 'whole milk'}), items_add=frozenset({'bottled beer'}), confidence=0.09803921568627451, lift=2.1636589739140493)]),\n",
       " RelationRecord(items=frozenset({'bottled beer', 'whole milk', 'chocolate'}), support=0.0003341575887188398, ordered_statistics=[OrderedStatistic(items_base=frozenset({'bottled beer', 'chocolate'}), items_add=frozenset({'whole milk'}), confidence=0.3333333333333333, lift=2.110734941458598), OrderedStatistic(items_base=frozenset({'whole milk', 'chocolate'}), items_add=frozenset({'bottled beer'}), confidence=0.11363636363636365, lift=2.5078774470367393)]),\n",
       " RelationRecord(items=frozenset({'domestic eggs', 'bottled beer', 'rolls/buns'}), support=0.0003341575887188398, ordered_statistics=[OrderedStatistic(items_base=frozenset({'bottled beer', 'rolls/buns'}), items_add=frozenset({'domestic eggs'}), confidence=0.08333333333333333, lift=2.246696696696697), OrderedStatistic(items_base=frozenset({'domestic eggs', 'rolls/buns'}), items_add=frozenset({'bottled beer'}), confidence=0.09803921568627451, lift=2.1636589739140493)]),\n",
       " RelationRecord(items=frozenset({'frankfurter', 'bottled beer', 'rolls/buns'}), support=0.0003341575887188398, ordered_statistics=[OrderedStatistic(items_base=frozenset({'bottled beer', 'rolls/buns'}), items_add=frozenset({'frankfurter'}), confidence=0.08333333333333333, lift=2.2069321533923305), OrderedStatistic(items_base=frozenset({'frankfurter', 'rolls/buns'}), items_add=frozenset({'bottled beer'}), confidence=0.09090909090909091, lift=2.006301957629391)]),\n",
       " RelationRecord(items=frozenset({'bottled beer', 'whole milk', 'hard cheese'}), support=0.0003341575887188398, ordered_statistics=[OrderedStatistic(items_base=frozenset({'bottled beer', 'hard cheese'}), items_add=frozenset({'whole milk'}), confidence=0.4545454545454546, lift=2.8782749201708158), OrderedStatistic(items_base=frozenset({'whole milk', 'hard cheese'}), items_add=frozenset({'bottled beer'}), confidence=0.17857142857142858, lift=3.9409502739148756)]),\n",
       " RelationRecord(items=frozenset({'newspapers', 'bottled water', 'yogurt'}), support=0.00040098910646260775, ordered_statistics=[OrderedStatistic(items_base=frozenset({'newspapers', 'bottled water'}), items_add=frozenset({'yogurt'}), confidence=0.2222222222222222, lift=2.5876351059230434), OrderedStatistic(items_base=frozenset({'bottled water', 'yogurt'}), items_add=frozenset({'newspapers'}), confidence=0.10526315789473684, lift=2.7062759992765417), OrderedStatistic(items_base=frozenset({'newspapers', 'yogurt'}), items_add=frozenset({'bottled water'}), confidence=0.13953488372093023, lift=2.29940579858621)]),\n",
       " RelationRecord(items=frozenset({'brown bread', 'canned beer', 'frozen vegetables'}), support=0.0003341575887188398, ordered_statistics=[OrderedStatistic(items_base=frozenset({'brown bread', 'canned beer'}), items_add=frozenset({'frozen vegetables'}), confidence=0.1388888888888889, lift=4.959891275523733), OrderedStatistic(items_base=frozenset({'brown bread', 'frozen vegetables'}), items_add=frozenset({'canned beer'}), confidence=0.35714285714285715, lift=7.612433862433862), OrderedStatistic(items_base=frozenset({'canned beer', 'frozen vegetables'}), items_add=frozenset({'brown bread'}), confidence=0.25, lift=6.644316163410303)]),\n",
       " RelationRecord(items=frozenset({'brown bread', 'sausage', 'canned beer'}), support=0.00040098910646260775, ordered_statistics=[OrderedStatistic(items_base=frozenset({'brown bread', 'canned beer'}), items_add=frozenset({'sausage'}), confidence=0.16666666666666666, lift=2.7617201919527496), OrderedStatistic(items_base=frozenset({'brown bread', 'sausage'}), items_add=frozenset({'canned beer'}), confidence=0.2222222222222222, lift=4.736625514403292), OrderedStatistic(items_base=frozenset({'sausage', 'canned beer'}), items_add=frozenset({'brown bread'}), confidence=0.16216216216216214, lift=4.309826700590466)]),\n",
       " RelationRecord(items=frozenset({'brown bread', 'pork', 'whole milk'}), support=0.0003341575887188398, ordered_statistics=[OrderedStatistic(items_base=frozenset({'brown bread', 'whole milk'}), items_add=frozenset({'pork'}), confidence=0.0746268656716418, lift=2.011967191071669)]),\n",
       " RelationRecord(items=frozenset({'frankfurter', 'soda', 'butter'}), support=0.0003341575887188398, ordered_statistics=[OrderedStatistic(items_base=frozenset({'frankfurter', 'butter'}), items_add=frozenset({'soda'}), confidence=0.2380952380952381, lift=2.451905745092256), OrderedStatistic(items_base=frozenset({'soda', 'butter'}), items_add=frozenset({'frankfurter'}), confidence=0.10638297872340426, lift=2.8173601958199965), OrderedStatistic(items_base=frozenset({'frankfurter', 'soda'}), items_add=frozenset({'butter'}), confidence=0.10869565217391304, lift=3.0861727580232654)]),\n",
       " RelationRecord(items=frozenset({'shopping bags', 'soda', 'butter'}), support=0.0003341575887188398, ordered_statistics=[OrderedStatistic(items_base=frozenset({'shopping bags', 'butter'}), items_add=frozenset({'soda'}), confidence=0.25, lift=2.574501032346869), OrderedStatistic(items_base=frozenset({'soda', 'butter'}), items_add=frozenset({'shopping bags'}), confidence=0.10638297872340426, lift=2.235686110447048), OrderedStatistic(items_base=frozenset({'shopping bags', 'soda'}), items_add=frozenset({'butter'}), confidence=0.07575757575757576, lift=2.150968891955609)]),\n",
       " RelationRecord(items=frozenset({'butter milk', 'canned beer', 'yogurt'}), support=0.0003341575887188398, ordered_statistics=[OrderedStatistic(items_base=frozenset({'butter milk', 'canned beer'}), items_add=frozenset({'yogurt'}), confidence=0.4166666666666667, lift=4.851815823605707), OrderedStatistic(items_base=frozenset({'butter milk', 'yogurt'}), items_add=frozenset({'canned beer'}), confidence=0.26315789473684215, lift=5.609161793372321), OrderedStatistic(items_base=frozenset({'canned beer', 'yogurt'}), items_add=frozenset({'butter milk'}), confidence=0.08620689655172414, lift=4.9046151829028455)]),\n",
       " RelationRecord(items=frozenset({'candy', 'rolls/buns', 'yogurt'}), support=0.0003341575887188398, ordered_statistics=[OrderedStatistic(items_base=frozenset({'candy', 'rolls/buns'}), items_add=frozenset({'yogurt'}), confidence=0.2272727272727273, lift=2.646444994694022), OrderedStatistic(items_base=frozenset({'candy', 'yogurt'}), items_add=frozenset({'rolls/buns'}), confidence=0.2777777777777778, lift=2.5251451329823142)]),\n",
       " RelationRecord(items=frozenset({'chicken', 'whole milk', 'canned beer'}), support=0.00040098910646260775, ordered_statistics=[OrderedStatistic(items_base=frozenset({'chicken', 'canned beer'}), items_add=frozenset({'whole milk'}), confidence=0.3529411764705882, lift=2.234895820367927), OrderedStatistic(items_base=frozenset({'whole milk', 'canned beer'}), items_add=frozenset({'chicken'}), confidence=0.06666666666666667, lift=2.3921662669864108), OrderedStatistic(items_base=frozenset({'chicken', 'whole milk'}), items_add=frozenset({'canned beer'}), confidence=0.11764705882352941, lift=2.5076252723311545)]),\n",
       " RelationRecord(items=frozenset({'sausage', 'canned beer', 'frozen vegetables'}), support=0.0003341575887188398, ordered_statistics=[OrderedStatistic(items_base=frozenset({'canned beer', 'frozen vegetables'}), items_add=frozenset({'sausage'}), confidence=0.25, lift=4.142580287929125), OrderedStatistic(items_base=frozenset({'sausage', 'canned beer'}), items_add=frozenset({'frozen vegetables'}), confidence=0.13513513513513514, lift=4.825840159969038), OrderedStatistic(items_base=frozenset({'sausage', 'frozen vegetables'}), items_add=frozenset({'canned beer'}), confidence=0.16129032258064518, lift=3.4378733572281965)]),\n",
       " RelationRecord(items=frozenset({'hygiene articles', 'whole milk', 'canned beer'}), support=0.00040098910646260775, ordered_statistics=[OrderedStatistic(items_base=frozenset({'hygiene articles', 'canned beer'}), items_add=frozenset({'whole milk'}), confidence=0.5454545454545454, lift=3.4539299042049785), OrderedStatistic(items_base=frozenset({'whole milk', 'canned beer'}), items_add=frozenset({'hygiene articles'}), confidence=0.06666666666666667, lift=4.866016260162602), OrderedStatistic(items_base=frozenset({'hygiene articles', 'whole milk'}), items_add=frozenset({'canned beer'}), confidence=0.23076923076923078, lift=4.918803418803419)]),\n",
       " RelationRecord(items=frozenset({'pork', 'canned beer', 'rolls/buns'}), support=0.0003341575887188398, ordered_statistics=[OrderedStatistic(items_base=frozenset({'canned beer', 'rolls/buns'}), items_add=frozenset({'pork'}), confidence=0.07936507936507937, lift=2.13971113971114), OrderedStatistic(items_base=frozenset({'pork', 'rolls/buns'}), items_add=frozenset({'canned beer'}), confidence=0.09803921568627451, lift=2.089687726942629)]),\n",
       " RelationRecord(items=frozenset({'chewing gum', 'soda', 'yogurt'}), support=0.00040098910646260775, ordered_statistics=[OrderedStatistic(items_base=frozenset({'chewing gum', 'soda'}), items_add=frozenset({'yogurt'}), confidence=0.39999999999999997, lift=4.657743190661479), OrderedStatistic(items_base=frozenset({'chewing gum', 'yogurt'}), items_add=frozenset({'soda'}), confidence=0.2857142857142857, lift=2.942286894110707), OrderedStatistic(items_base=frozenset({'soda', 'yogurt'}), items_add=frozenset({'chewing gum'}), confidence=0.06896551724137931, lift=5.732950191570882)]),\n",
       " RelationRecord(items=frozenset({'chewing gum', 'whole milk', 'yogurt'}), support=0.0003341575887188398, ordered_statistics=[OrderedStatistic(items_base=frozenset({'chewing gum', 'whole milk'}), items_add=frozenset({'yogurt'}), confidence=0.2, lift=2.3288715953307393)]),\n",
       " RelationRecord(items=frozenset({'other vegetables', 'citrus fruit', 'curd'}), support=0.0003341575887188398, ordered_statistics=[OrderedStatistic(items_base=frozenset({'citrus fruit', 'curd'}), items_add=frozenset({'other vegetables'}), confidence=0.29411764705882354, lift=2.4088026015003705), OrderedStatistic(items_base=frozenset({'other vegetables', 'citrus fruit'}), items_add=frozenset({'curd'}), confidence=0.06944444444444445, lift=2.061700837742505)]),\n",
       " RelationRecord(items=frozenset({'frankfurter', 'citrus fruit', 'yogurt'}), support=0.0003341575887188398, ordered_statistics=[OrderedStatistic(items_base=frozenset({'frankfurter', 'citrus fruit'}), items_add=frozenset({'yogurt'}), confidence=0.19230769230769232, lift=2.2392996108949417), OrderedStatistic(items_base=frozenset({'frankfurter', 'yogurt'}), items_add=frozenset({'citrus fruit'}), confidence=0.13157894736842107, lift=2.4764978483945717)]),\n",
       " RelationRecord(items=frozenset({'other vegetables', 'citrus fruit', 'frozen vegetables'}), support=0.0003341575887188398, ordered_statistics=[OrderedStatistic(items_base=frozenset({'other vegetables', 'citrus fruit'}), items_add=frozenset({'frozen vegetables'}), confidence=0.06944444444444445, lift=2.4799456377618667), OrderedStatistic(items_base=frozenset({'other vegetables', 'frozen vegetables'}), items_add=frozenset({'citrus fruit'}), confidence=0.10638297872340426, lift=2.0022748561488024)]),\n",
       " RelationRecord(items=frozenset({'other vegetables', 'citrus fruit', 'pip fruit'}), support=0.00040098910646260775, ordered_statistics=[OrderedStatistic(items_base=frozenset({'citrus fruit', 'pip fruit'}), items_add=frozenset({'other vegetables'}), confidence=0.2727272727272727, lift=2.2336169577548888)]),\n",
       " RelationRecord(items=frozenset({'other vegetables', 'citrus fruit', 'pork'}), support=0.00046782062420637575, ordered_statistics=[OrderedStatistic(items_base=frozenset({'other vegetables', 'citrus fruit'}), items_add=frozenset({'pork'}), confidence=0.09722222222222222, lift=2.6211461461461463), OrderedStatistic(items_base=frozenset({'citrus fruit', 'pork'}), items_add=frozenset({'other vegetables'}), confidence=0.35000000000000003, lift=2.866475095785441), OrderedStatistic(items_base=frozenset({'other vegetables', 'pork'}), items_add=frozenset({'citrus fruit'}), confidence=0.11864406779661017, lift=2.233045517535444)]),\n",
       " RelationRecord(items=frozenset({'citrus fruit', 'pork', 'yogurt'}), support=0.00040098910646260775, ordered_statistics=[OrderedStatistic(items_base=frozenset({'citrus fruit', 'pork'}), items_add=frozenset({'yogurt'}), confidence=0.3, lift=3.4933073929961087), OrderedStatistic(items_base=frozenset({'citrus fruit', 'yogurt'}), items_add=frozenset({'pork'}), confidence=0.08695652173913043, lift=2.3443791617704663), OrderedStatistic(items_base=frozenset({'pork', 'yogurt'}), items_add=frozenset({'citrus fruit'}), confidence=0.13043478260869565, lift=2.454963084495488)]),\n",
       " RelationRecord(items=frozenset({'frankfurter', 'coffee', 'rolls/buns'}), support=0.0003341575887188398, ordered_statistics=[OrderedStatistic(items_base=frozenset({'frankfurter', 'coffee'}), items_add=frozenset({'rolls/buns'}), confidence=0.2272727272727273, lift=2.066027836076439), OrderedStatistic(items_base=frozenset({'coffee', 'rolls/buns'}), items_add=frozenset({'frankfurter'}), confidence=0.1388888888888889, lift=3.6782202556538843), OrderedStatistic(items_base=frozenset({'frankfurter', 'rolls/buns'}), items_add=frozenset({'coffee'}), confidence=0.09090909090909091, lift=2.8758408610417066)]),\n",
       " RelationRecord(items=frozenset({'frankfurter', 'coffee', 'soda'}), support=0.0003341575887188398, ordered_statistics=[OrderedStatistic(items_base=frozenset({'frankfurter', 'coffee'}), items_add=frozenset({'soda'}), confidence=0.2272727272727273, lift=2.340455483951699), OrderedStatistic(items_base=frozenset({'coffee', 'soda'}), items_add=frozenset({'frankfurter'}), confidence=0.13513513513513514, lift=3.578808897392969), OrderedStatistic(items_base=frozenset({'frankfurter', 'soda'}), items_add=frozenset({'coffee'}), confidence=0.10869565217391304, lift=3.438505377332475)]),\n",
       " RelationRecord(items=frozenset({'sausage', 'coffee', 'pastry'}), support=0.0003341575887188398, ordered_statistics=[OrderedStatistic(items_base=frozenset({'coffee', 'pastry'}), items_add=frozenset({'sausage'}), confidence=0.2380952380952381, lift=3.9453145599325), OrderedStatistic(items_base=frozenset({'sausage', 'coffee'}), items_add=frozenset({'pastry'}), confidence=0.25, lift=4.833010335917313), OrderedStatistic(items_base=frozenset({'sausage', 'pastry'}), items_add=frozenset({'coffee'}), confidence=0.10416666666666667, lift=3.2952343199436225)]),\n",
       " RelationRecord(items=frozenset({'coffee', 'root vegetables', 'soda'}), support=0.00040098910646260775, ordered_statistics=[OrderedStatistic(items_base=frozenset({'coffee', 'root vegetables'}), items_add=frozenset({'soda'}), confidence=0.19999999999999998, lift=2.059600825877495), OrderedStatistic(items_base=frozenset({'coffee', 'soda'}), items_add=frozenset({'root vegetables'}), confidence=0.16216216216216214, lift=2.330866889944699), OrderedStatistic(items_base=frozenset({'soda', 'root vegetables'}), items_add=frozenset({'coffee'}), confidence=0.07594936708860758, lift=2.402601225680413)]),\n",
       " RelationRecord(items=frozenset({'other vegetables', 'root vegetables', 'cream cheese '}), support=0.0003341575887188398, ordered_statistics=[OrderedStatistic(items_base=frozenset({'other vegetables', 'cream cheese '}), items_add=frozenset({'root vegetables'}), confidence=0.15625, lift=2.245887367915466), OrderedStatistic(items_base=frozenset({'other vegetables', 'root vegetables'}), items_add=frozenset({'cream cheese '}), confidence=0.06329113924050633, lift=2.6752127583494247)]),\n",
       " RelationRecord(items=frozenset({'sausage', 'curd', 'fruit/vegetable juice'}), support=0.0003341575887188398, ordered_statistics=[OrderedStatistic(items_base=frozenset({'curd', 'fruit/vegetable juice'}), items_add=frozenset({'sausage'}), confidence=0.5, lift=8.28516057585825), OrderedStatistic(items_base=frozenset({'sausage', 'curd'}), items_add=frozenset({'fruit/vegetable juice'}), confidence=0.11363636363636365, lift=3.340551884265048), OrderedStatistic(items_base=frozenset({'sausage', 'fruit/vegetable juice'}), items_add=frozenset({'curd'}), confidence=0.1851851851851852, lift=5.497868900646679)]),\n",
       " RelationRecord(items=frozenset({'margarine', 'curd', 'sausage'}), support=0.0003341575887188398, ordered_statistics=[OrderedStatistic(items_base=frozenset({'margarine', 'curd'}), items_add=frozenset({'sausage'}), confidence=0.3125, lift=5.178225359911406), OrderedStatistic(items_base=frozenset({'sausage', 'curd'}), items_add=frozenset({'margarine'}), confidence=0.11363636363636365, lift=3.5276782346284423), OrderedStatistic(items_base=frozenset({'margarine', 'sausage'}), items_add=frozenset({'curd'}), confidence=0.17857142857142858, lift=5.301516439909298)]),\n",
       " RelationRecord(items=frozenset({'sausage', 'curd', 'rolls/buns'}), support=0.00040098910646260775, ordered_statistics=[OrderedStatistic(items_base=frozenset({'curd', 'rolls/buns'}), items_add=frozenset({'sausage'}), confidence=0.14634146341463414, lift=2.4249250465926586), OrderedStatistic(items_base=frozenset({'sausage', 'rolls/buns'}), items_add=frozenset({'curd'}), confidence=0.075, lift=2.226636904761905)]),\n",
       " RelationRecord(items=frozenset({'sausage', 'curd', 'yogurt'}), support=0.00046782062420637575, ordered_statistics=[OrderedStatistic(items_base=frozenset({'curd', 'yogurt'}), items_add=frozenset({'sausage'}), confidence=0.2058823529411765, lift=3.4115367077063388), OrderedStatistic(items_base=frozenset({'sausage', 'yogurt'}), items_add=frozenset({'curd'}), confidence=0.08139534883720931, lift=2.4165051679586567)]),\n",
       " RelationRecord(items=frozenset({'soda', 'dessert', 'rolls/buns'}), support=0.0003341575887188398, ordered_statistics=[OrderedStatistic(items_base=frozenset({'soda', 'dessert'}), items_add=frozenset({'rolls/buns'}), confidence=0.2272727272727273, lift=2.066027836076439)]),\n",
       " RelationRecord(items=frozenset({'sausage', 'whole milk', 'dessert'}), support=0.00040098910646260775, ordered_statistics=[OrderedStatistic(items_base=frozenset({'whole milk', 'dessert'}), items_add=frozenset({'sausage'}), confidence=0.16666666666666666, lift=2.7617201919527496)]),\n",
       " RelationRecord(items=frozenset({'domestic eggs', 'other vegetables', 'frankfurter'}), support=0.00040098910646260775, ordered_statistics=[OrderedStatistic(items_base=frozenset({'domestic eggs', 'frankfurter'}), items_add=frozenset({'other vegetables'}), confidence=0.2857142857142857, lift=2.339979670028931), OrderedStatistic(items_base=frozenset({'domestic eggs', 'other vegetables'}), items_add=frozenset({'frankfurter'}), confidence=0.11320754716981131, lift=2.998096510268826), OrderedStatistic(items_base=frozenset({'frankfurter', 'other vegetables'}), items_add=frozenset({'domestic eggs'}), confidence=0.07792207792207792, lift=2.100807300807301)]),\n",
       " RelationRecord(items=frozenset({'frankfurter', 'root vegetables', 'other vegetables'}), support=0.00040098910646260775, ordered_statistics=[OrderedStatistic(items_base=frozenset({'other vegetables', 'root vegetables'}), items_add=frozenset({'frankfurter'}), confidence=0.07594936708860758, lift=2.011381203091744)]),\n",
       " RelationRecord(items=frozenset({'frankfurter', 'sausage', 'other vegetables'}), support=0.00040098910646260775, ordered_statistics=[OrderedStatistic(items_base=frozenset({'frankfurter', 'sausage'}), items_add=frozenset({'other vegetables'}), confidence=0.2727272727272727, lift=2.2336169577548888)]),\n",
       " RelationRecord(items=frozenset({'frankfurter', 'soda', 'sausage'}), support=0.0003341575887188398, ordered_statistics=[OrderedStatistic(items_base=frozenset({'frankfurter', 'sausage'}), items_add=frozenset({'soda'}), confidence=0.2272727272727273, lift=2.340455483951699)]),\n",
       " RelationRecord(items=frozenset({'root vegetables', 'rolls/buns', 'frozen vegetables'}), support=0.0003341575887188398, ordered_statistics=[OrderedStatistic(items_base=frozenset({'root vegetables', 'rolls/buns'}), items_add=frozenset({'frozen vegetables'}), confidence=0.05813953488372093, lift=2.0762335571959816)]),\n",
       " RelationRecord(items=frozenset({'grapes', 'whole milk', 'yogurt'}), support=0.0003341575887188398, ordered_statistics=[OrderedStatistic(items_base=frozenset({'grapes', 'whole milk'}), items_add=frozenset({'yogurt'}), confidence=0.1724137931034483, lift=2.007647927009258), OrderedStatistic(items_base=frozenset({'grapes', 'yogurt'}), items_add=frozenset({'whole milk'}), confidence=0.35714285714285715, lift=2.261501722991355)]),\n",
       " RelationRecord(items=frozenset({'other vegetables', 'sausage', 'hard cheese'}), support=0.0003341575887188398, ordered_statistics=[OrderedStatistic(items_base=frozenset({'other vegetables', 'hard cheese'}), items_add=frozenset({'sausage'}), confidence=0.2, lift=3.3140642303433), OrderedStatistic(items_base=frozenset({'sausage', 'hard cheese'}), items_add=frozenset({'other vegetables'}), confidence=0.4545454545454546, lift=3.7226949295914817), OrderedStatistic(items_base=frozenset({'other vegetables', 'sausage'}), items_add=frozenset({'hard cheese'}), confidence=0.05555555555555556, lift=3.778535353535354)]),\n",
       " RelationRecord(items=frozenset({'ice cream', 'rolls/buns', 'pip fruit'}), support=0.0003341575887188398, ordered_statistics=[OrderedStatistic(items_base=frozenset({'ice cream', 'pip fruit'}), items_add=frozenset({'rolls/buns'}), confidence=0.5, lift=4.545261239368165), OrderedStatistic(items_base=frozenset({'ice cream', 'rolls/buns'}), items_add=frozenset({'pip fruit'}), confidence=0.19230769230769232, lift=3.920299727520436), OrderedStatistic(items_base=frozenset({'rolls/buns', 'pip fruit'}), items_add=frozenset({'ice cream'}), confidence=0.06756756756756757, lift=4.453804024288606)]),\n",
       " RelationRecord(items=frozenset({'margarine', 'pork', 'other vegetables'}), support=0.0003341575887188398, ordered_statistics=[OrderedStatistic(items_base=frozenset({'margarine', 'other vegetables'}), items_add=frozenset({'pork'}), confidence=0.10416666666666667, lift=2.808370870870871), OrderedStatistic(items_base=frozenset({'margarine', 'pork'}), items_add=frozenset({'other vegetables'}), confidence=0.25, lift=2.0474822112753146), OrderedStatistic(items_base=frozenset({'other vegetables', 'pork'}), items_add=frozenset({'margarine'}), confidence=0.0847457627118644, lift=2.63081088684155)]),\n",
       " RelationRecord(items=frozenset({'margarine', 'whole milk', 'pip fruit'}), support=0.00040098910646260775, ordered_statistics=[OrderedStatistic(items_base=frozenset({'margarine', 'whole milk'}), items_add=frozenset({'pip fruit'}), confidence=0.09836065573770492, lift=2.005136909813731)]),\n",
       " RelationRecord(items=frozenset({'shopping bags', 'margarine', 'root vegetables'}), support=0.0003341575887188398, ordered_statistics=[OrderedStatistic(items_base=frozenset({'margarine', 'root vegetables'}), items_add=frozenset({'shopping bags'}), confidence=0.1724137931034483, lift=3.623353351414181), OrderedStatistic(items_base=frozenset({'shopping bags', 'margarine'}), items_add=frozenset({'root vegetables'}), confidence=0.3333333333333333, lift=4.791226384886326), OrderedStatistic(items_base=frozenset({'shopping bags', 'root vegetables'}), items_add=frozenset({'margarine'}), confidence=0.1, lift=3.104356846473029)]),\n",
       " RelationRecord(items=frozenset({'margarine', 'sausage', 'yogurt'}), support=0.00040098910646260775, ordered_statistics=[OrderedStatistic(items_base=frozenset({'margarine', 'sausage'}), items_add=frozenset({'yogurt'}), confidence=0.21428571428571427, lift=2.495219566425792), OrderedStatistic(items_base=frozenset({'margarine', 'yogurt'}), items_add=frozenset({'sausage'}), confidence=0.18749999999999997, lift=3.1069352159468435), OrderedStatistic(items_base=frozenset({'sausage', 'yogurt'}), items_add=frozenset({'margarine'}), confidence=0.06976744186046512, lift=2.1658303580044387)]),\n",
       " RelationRecord(items=frozenset({'other vegetables', 'pastry', 'newspapers'}), support=0.0003341575887188398, ordered_statistics=[OrderedStatistic(items_base=frozenset({'other vegetables', 'pastry'}), items_add=frozenset({'newspapers'}), confidence=0.09090909090909091, lift=2.3372383630115587)]),\n",
       " RelationRecord(items=frozenset({'sausage', 'pastry', 'newspapers'}), support=0.0003341575887188398, ordered_statistics=[OrderedStatistic(items_base=frozenset({'pastry', 'newspapers'}), items_add=frozenset({'sausage'}), confidence=0.16666666666666666, lift=2.7617201919527496), OrderedStatistic(items_base=frozenset({'sausage', 'newspapers'}), items_add=frozenset({'pastry'}), confidence=0.1851851851851852, lift=3.580007656235047), OrderedStatistic(items_base=frozenset({'sausage', 'pastry'}), items_add=frozenset({'newspapers'}), confidence=0.10416666666666667, lift=2.678085624284078)]),\n",
       " RelationRecord(items=frozenset({'pastry', 'soda', 'newspapers'}), support=0.0003341575887188398, ordered_statistics=[OrderedStatistic(items_base=frozenset({'soda', 'newspapers'}), items_add=frozenset({'pastry'}), confidence=0.14285714285714288, lift=2.7617201919527505), OrderedStatistic(items_base=frozenset({'soda', 'pastry'}), items_add=frozenset({'newspapers'}), confidence=0.0819672131147541, lift=2.107346065010422)]),\n",
       " RelationRecord(items=frozenset({'sausage', 'soda', 'newspapers'}), support=0.00040098910646260775, ordered_statistics=[OrderedStatistic(items_base=frozenset({'sausage', 'newspapers'}), items_add=frozenset({'soda'}), confidence=0.2222222222222222, lift=2.2884453620861054), OrderedStatistic(items_base=frozenset({'soda', 'newspapers'}), items_add=frozenset({'sausage'}), confidence=0.17142857142857143, lift=2.8406264831514)]),\n",
       " RelationRecord(items=frozenset({'tropical fruit', 'onions', 'yogurt'}), support=0.0003341575887188398, ordered_statistics=[OrderedStatistic(items_base=frozenset({'tropical fruit', 'onions'}), items_add=frozenset({'yogurt'}), confidence=0.2777777777777778, lift=3.2345438824038046), OrderedStatistic(items_base=frozenset({'onions', 'yogurt'}), items_add=frozenset({'tropical fruit'}), confidence=0.26315789473684215, lift=3.8832658569500684), OrderedStatistic(items_base=frozenset({'tropical fruit', 'yogurt'}), items_add=frozenset({'onions'}), confidence=0.0641025641025641, lift=3.165566556655665)]),\n",
       " RelationRecord(items=frozenset({'whole milk', 'onions', 'yogurt'}), support=0.00046782062420637575, ordered_statistics=[OrderedStatistic(items_base=frozenset({'onions', 'yogurt'}), items_add=frozenset({'whole milk'}), confidence=0.368421052631579, lift=2.3329175668752926)]),\n",
       " RelationRecord(items=frozenset({'shopping bags', 'other vegetables', 'sausage'}), support=0.0005346521419501437, ordered_statistics=[OrderedStatistic(items_base=frozenset({'shopping bags', 'sausage'}), items_add=frozenset({'other vegetables'}), confidence=0.2758620689655173, lift=2.259290715890003)]),\n",
       " RelationRecord(items=frozenset({'other vegetables', 'sausage', 'waffles'}), support=0.0003341575887188398, ordered_statistics=[OrderedStatistic(items_base=frozenset({'other vegetables', 'sausage'}), items_add=frozenset({'waffles'}), confidence=0.05555555555555556, lift=3.001002807862014), OrderedStatistic(items_base=frozenset({'other vegetables', 'waffles'}), items_add=frozenset({'sausage'}), confidence=0.19230769230769232, lift=3.1866002214839426), OrderedStatistic(items_base=frozenset({'sausage', 'waffles'}), items_add=frozenset({'other vegetables'}), confidence=0.4166666666666667, lift=3.4124703521255246)]),\n",
       " RelationRecord(items=frozenset({'other vegetables', 'white bread', 'sausage'}), support=0.0003341575887188398, ordered_statistics=[OrderedStatistic(items_base=frozenset({'other vegetables', 'sausage'}), items_add=frozenset({'white bread'}), confidence=0.05555555555555556, lift=2.3155369854534205), OrderedStatistic(items_base=frozenset({'other vegetables', 'white bread'}), items_add=frozenset({'sausage'}), confidence=0.1282051282051282, lift=2.1244001476559613)]),\n",
       " RelationRecord(items=frozenset({'other vegetables', 'soda', 'white bread'}), support=0.00040098910646260775, ordered_statistics=[OrderedStatistic(items_base=frozenset({'white bread', 'soda'}), items_add=frozenset({'other vegetables'}), confidence=0.2608695652173913, lift=2.136503176982937)]),\n",
       " RelationRecord(items=frozenset({'other vegetables', 'soft cheese', 'yogurt'}), support=0.0003341575887188398, ordered_statistics=[OrderedStatistic(items_base=frozenset({'other vegetables', 'soft cheese'}), items_add=frozenset({'yogurt'}), confidence=0.2777777777777778, lift=3.2345438824038046), OrderedStatistic(items_base=frozenset({'soft cheese', 'yogurt'}), items_add=frozenset({'other vegetables'}), confidence=0.26315789473684215, lift=2.1552444329213842)]),\n",
       " RelationRecord(items=frozenset({'other vegetables', 'sugar', 'whole milk'}), support=0.00046782062420637575, ordered_statistics=[OrderedStatistic(items_base=frozenset({'other vegetables', 'sugar'}), items_add=frozenset({'whole milk'}), confidence=0.368421052631579, lift=2.3329175668752926)]),\n",
       " RelationRecord(items=frozenset({'sausage', 'soda', 'pastry'}), support=0.0005346521419501437, ordered_statistics=[OrderedStatistic(items_base=frozenset({'soda', 'pastry'}), items_add=frozenset({'sausage'}), confidence=0.13114754098360656, lift=2.1731568723562624)]),\n",
       " RelationRecord(items=frozenset({'sausage', 'pastry', 'yogurt'}), support=0.00046782062420637575, ordered_statistics=[OrderedStatistic(items_base=frozenset({'pastry', 'yogurt'}), items_add=frozenset({'sausage'}), confidence=0.12962962962962962, lift=2.1480045937410277)]),\n",
       " RelationRecord(items=frozenset({'sausage', 'soda', 'pork'}), support=0.00040098910646260775, ordered_statistics=[OrderedStatistic(items_base=frozenset({'sausage', 'pork'}), items_add=frozenset({'soda'}), confidence=0.2608695652173913, lift=2.686435859840211), OrderedStatistic(items_base=frozenset({'soda', 'pork'}), items_add=frozenset({'sausage'}), confidence=0.13333333333333333, lift=2.2093761535622)]),\n",
       " RelationRecord(items=frozenset({'sausage', 'pork', 'whole milk'}), support=0.0006014836596939117, ordered_statistics=[OrderedStatistic(items_base=frozenset({'sausage', 'pork'}), items_add=frozenset({'whole milk'}), confidence=0.391304347826087, lift=2.4778192791035716)]),\n",
       " RelationRecord(items=frozenset({'sausage', 'pork', 'yogurt'}), support=0.00040098910646260775, ordered_statistics=[OrderedStatistic(items_base=frozenset({'sausage', 'pork'}), items_add=frozenset({'yogurt'}), confidence=0.2608695652173913, lift=3.037658602605312), OrderedStatistic(items_base=frozenset({'pork', 'yogurt'}), items_add=frozenset({'sausage'}), confidence=0.13043478260869565, lift=2.161346237180413)]),\n",
       " RelationRecord(items=frozenset({'processed cheese', 'whole milk', 'rolls/buns'}), support=0.00040098910646260775, ordered_statistics=[OrderedStatistic(items_base=frozenset({'processed cheese', 'whole milk'}), items_add=frozenset({'rolls/buns'}), confidence=0.2727272727272727, lift=2.4792334032917265)]),\n",
       " RelationRecord(items=frozenset({'whipped/sour cream', 'rolls/buns', 'yogurt'}), support=0.0006014836596939117, ordered_statistics=[OrderedStatistic(items_base=frozenset({'whipped/sour cream', 'rolls/buns'}), items_add=frozenset({'yogurt'}), confidence=0.20454545454545456, lift=2.3818004952246197)]),\n",
       " RelationRecord(items=frozenset({'shopping bags', 'sausage', 'yogurt'}), support=0.00040098910646260775, ordered_statistics=[OrderedStatistic(items_base=frozenset({'shopping bags', 'sausage'}), items_add=frozenset({'yogurt'}), confidence=0.20689655172413793, lift=2.4091775124111097)]),\n",
       " RelationRecord(items=frozenset({'sausage', 'whole milk', 'yogurt'}), support=0.0014702933903628951, ordered_statistics=[OrderedStatistic(items_base=frozenset({'whole milk', 'yogurt'}), items_add=frozenset({'sausage'}), confidence=0.1317365269461078, lift=2.1829165589087607)]),\n",
       " RelationRecord(items=frozenset({'other vegetables', 'soda', 'pastry', 'whole milk'}), support=0.0003341575887188398, ordered_statistics=[OrderedStatistic(items_base=frozenset({'other vegetables', 'pastry'}), items_add=frozenset({'soda', 'whole milk'}), confidence=0.09090909090909091, lift=7.817659352142111), OrderedStatistic(items_base=frozenset({'soda', 'pastry'}), items_add=frozenset({'other vegetables', 'whole milk'}), confidence=0.0819672131147541, lift=5.524664008270567), OrderedStatistic(items_base=frozenset({'pastry', 'whole milk'}), items_add=frozenset({'other vegetables', 'soda'}), confidence=0.051546391752577324, lift=5.319232136509065), OrderedStatistic(items_base=frozenset({'other vegetables', 'soda', 'pastry'}), items_add=frozenset({'whole milk'}), confidence=0.8333333333333334, lift=5.276837353646496), OrderedStatistic(items_base=frozenset({'other vegetables', 'pastry', 'whole milk'}), items_add=frozenset({'soda'}), confidence=0.5, lift=5.149002064693738), OrderedStatistic(items_base=frozenset({'other vegetables', 'soda', 'whole milk'}), items_add=frozenset({'pastry'}), confidence=0.29411764705882354, lift=5.685894512843897), OrderedStatistic(items_base=frozenset({'soda', 'pastry', 'whole milk'}), items_add=frozenset({'other vegetables'}), confidence=0.35714285714285715, lift=2.924974587536164)]),\n",
       " RelationRecord(items=frozenset({'sausage', 'whole milk', 'rolls/buns', 'yogurt'}), support=0.0003341575887188398, ordered_statistics=[OrderedStatistic(items_base=frozenset({'sausage', 'rolls/buns'}), items_add=frozenset({'whole milk', 'yogurt'}), confidence=0.0625, lift=5.599925149700599), OrderedStatistic(items_base=frozenset({'sausage', 'yogurt'}), items_add=frozenset({'whole milk', 'rolls/buns'}), confidence=0.05813953488372093, lift=4.162401246244575), OrderedStatistic(items_base=frozenset({'sausage', 'whole milk', 'rolls/buns'}), items_add=frozenset({'yogurt'}), confidence=0.29411764705882354, lift=3.4248111696040286), OrderedStatistic(items_base=frozenset({'sausage', 'rolls/buns', 'yogurt'}), items_add=frozenset({'whole milk'}), confidence=0.5555555555555556, lift=3.5178915690976633), OrderedStatistic(items_base=frozenset({'whole milk', 'rolls/buns', 'yogurt'}), items_add=frozenset({'sausage'}), confidence=0.25, lift=4.142580287929125), OrderedStatistic(items_base=frozenset({'sausage', 'whole milk', 'yogurt'}), items_add=frozenset({'rolls/buns'}), confidence=0.2272727272727273, lift=2.066027836076439)])]"
      ]
     },
     "execution_count": 94,
     "metadata": {},
     "output_type": "execute_result"
    }
   ],
   "source": [
    "from apyori import apriori\n",
    "rules = apriori(transactions, min_support=0.00030,min_confidence = 0.05,min_lift = 2,min_length = 2)\n",
    "results = list(rules)\n",
    "results"
   ]
  },
  {
   "cell_type": "markdown",
   "id": "2d123b1d",
   "metadata": {},
   "source": [
    "##### Support = 0.00030 and Confidence = 0.05"
   ]
  },
  {
   "cell_type": "code",
   "execution_count": 95,
   "id": "c1f17a90",
   "metadata": {},
   "outputs": [],
   "source": [
    "def inspect(results):\n",
    "    lhs         = [tuple(result[2][0][0])[0] for result in results]\n",
    "    rhs         = [tuple(result[2][0][1])[0] for result in results]\n",
    "    supports    = [result[1] for result in results]\n",
    "    confidences = [result[2][0][2] for result in results]\n",
    "    lifts       = [result[2][0][3] for result in results]\n",
    "    return list(zip(lhs, rhs, supports, confidences, lifts))\n",
    "ordered_results = pd.DataFrame(inspect(results), columns = ['Left Hand Side', 'Right Hand Side', 'Support', 'Confidence', 'Lift'])"
   ]
  },
  {
   "cell_type": "markdown",
   "id": "a628e73a",
   "metadata": {},
   "source": [
    "##### Final results!!"
   ]
  },
  {
   "cell_type": "code",
   "execution_count": 96,
   "id": "7e8c8cd7",
   "metadata": {},
   "outputs": [
    {
     "data": {
      "text/html": [
       "<div>\n",
       "<style scoped>\n",
       "    .dataframe tbody tr th:only-of-type {\n",
       "        vertical-align: middle;\n",
       "    }\n",
       "\n",
       "    .dataframe tbody tr th {\n",
       "        vertical-align: top;\n",
       "    }\n",
       "\n",
       "    .dataframe thead th {\n",
       "        text-align: right;\n",
       "    }\n",
       "</style>\n",
       "<table border=\"1\" class=\"dataframe\">\n",
       "  <thead>\n",
       "    <tr style=\"text-align: right;\">\n",
       "      <th></th>\n",
       "      <th>Left Hand Side</th>\n",
       "      <th>Right Hand Side</th>\n",
       "      <th>Support</th>\n",
       "      <th>Confidence</th>\n",
       "      <th>Lift</th>\n",
       "    </tr>\n",
       "  </thead>\n",
       "  <tbody>\n",
       "    <tr>\n",
       "      <th>0</th>\n",
       "      <td>artif. sweetener</td>\n",
       "      <td>soda</td>\n",
       "      <td>0.000468</td>\n",
       "      <td>0.241379</td>\n",
       "      <td>2.485725</td>\n",
       "    </tr>\n",
       "    <tr>\n",
       "      <th>1</th>\n",
       "      <td>condensed milk</td>\n",
       "      <td>berries</td>\n",
       "      <td>0.000334</td>\n",
       "      <td>0.051020</td>\n",
       "      <td>2.341774</td>\n",
       "    </tr>\n",
       "    <tr>\n",
       "      <th>2</th>\n",
       "      <td>brandy</td>\n",
       "      <td>whole milk</td>\n",
       "      <td>0.000869</td>\n",
       "      <td>0.342105</td>\n",
       "      <td>2.166281</td>\n",
       "    </tr>\n",
       "    <tr>\n",
       "      <th>3</th>\n",
       "      <td>sweet spreads</td>\n",
       "      <td>butter</td>\n",
       "      <td>0.000334</td>\n",
       "      <td>0.073529</td>\n",
       "      <td>2.087705</td>\n",
       "    </tr>\n",
       "    <tr>\n",
       "      <th>4</th>\n",
       "      <td>liver loaf</td>\n",
       "      <td>canned beer</td>\n",
       "      <td>0.000401</td>\n",
       "      <td>0.120000</td>\n",
       "      <td>2.557778</td>\n",
       "    </tr>\n",
       "    <tr>\n",
       "      <th>...</th>\n",
       "      <td>...</td>\n",
       "      <td>...</td>\n",
       "      <td>...</td>\n",
       "      <td>...</td>\n",
       "      <td>...</td>\n",
       "    </tr>\n",
       "    <tr>\n",
       "      <th>99</th>\n",
       "      <td>whipped/sour cream</td>\n",
       "      <td>yogurt</td>\n",
       "      <td>0.000601</td>\n",
       "      <td>0.204545</td>\n",
       "      <td>2.381800</td>\n",
       "    </tr>\n",
       "    <tr>\n",
       "      <th>100</th>\n",
       "      <td>shopping bags</td>\n",
       "      <td>yogurt</td>\n",
       "      <td>0.000401</td>\n",
       "      <td>0.206897</td>\n",
       "      <td>2.409178</td>\n",
       "    </tr>\n",
       "    <tr>\n",
       "      <th>101</th>\n",
       "      <td>whole milk</td>\n",
       "      <td>sausage</td>\n",
       "      <td>0.001470</td>\n",
       "      <td>0.131737</td>\n",
       "      <td>2.182917</td>\n",
       "    </tr>\n",
       "    <tr>\n",
       "      <th>102</th>\n",
       "      <td>other vegetables</td>\n",
       "      <td>soda</td>\n",
       "      <td>0.000334</td>\n",
       "      <td>0.090909</td>\n",
       "      <td>7.817659</td>\n",
       "    </tr>\n",
       "    <tr>\n",
       "      <th>103</th>\n",
       "      <td>sausage</td>\n",
       "      <td>whole milk</td>\n",
       "      <td>0.000334</td>\n",
       "      <td>0.062500</td>\n",
       "      <td>5.599925</td>\n",
       "    </tr>\n",
       "  </tbody>\n",
       "</table>\n",
       "<p>104 rows × 5 columns</p>\n",
       "</div>"
      ],
      "text/plain": [
       "         Left Hand Side Right Hand Side   Support  Confidence      Lift\n",
       "0      artif. sweetener            soda  0.000468    0.241379  2.485725\n",
       "1        condensed milk         berries  0.000334    0.051020  2.341774\n",
       "2                brandy      whole milk  0.000869    0.342105  2.166281\n",
       "3         sweet spreads          butter  0.000334    0.073529  2.087705\n",
       "4            liver loaf     canned beer  0.000401    0.120000  2.557778\n",
       "..                  ...             ...       ...         ...       ...\n",
       "99   whipped/sour cream          yogurt  0.000601    0.204545  2.381800\n",
       "100       shopping bags          yogurt  0.000401    0.206897  2.409178\n",
       "101          whole milk         sausage  0.001470    0.131737  2.182917\n",
       "102    other vegetables            soda  0.000334    0.090909  7.817659\n",
       "103             sausage      whole milk  0.000334    0.062500  5.599925\n",
       "\n",
       "[104 rows x 5 columns]"
      ]
     },
     "execution_count": 96,
     "metadata": {},
     "output_type": "execute_result"
    }
   ],
   "source": [
    "ordered_results"
   ]
  }
 ],
 "metadata": {
  "kernelspec": {
   "display_name": "Python 3",
   "language": "python",
   "name": "python3"
  },
  "language_info": {
   "codemirror_mode": {
    "name": "ipython",
    "version": 3
   },
   "file_extension": ".py",
   "mimetype": "text/x-python",
   "name": "python",
   "nbconvert_exporter": "python",
   "pygments_lexer": "ipython3",
   "version": "3.8.8"
  }
 },
 "nbformat": 4,
 "nbformat_minor": 5
}
